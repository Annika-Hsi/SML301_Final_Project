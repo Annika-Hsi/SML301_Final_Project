{
  "nbformat": 4,
  "nbformat_minor": 0,
  "metadata": {
    "colab": {
      "provenance": [],
      "gpuType": "T4"
    },
    "kernelspec": {
      "name": "python3",
      "display_name": "Python 3"
    },
    "language_info": {
      "name": "python"
    },
    "accelerator": "GPU"
  },
  "cells": [
    {
      "cell_type": "markdown",
      "source": [
        "## **SML 301: Final Project**"
      ],
      "metadata": {
        "id": "mFZmB8uBm5w5"
      }
    },
    {
      "cell_type": "markdown",
      "source": [
        "## **Introduction**\n",
        "\n",
        "In this project we are interested in building a model that predicts the types of animals and the number of animals shown on images in the *Wild* dataset.  We will deviate from the approach used by [Parham et al.](https://ieeexplore.ieee.org/document/8354227) (the paper that we read in Precept 8) and employ a less complicated method inspired by the one used in [*Learn to Classify and Count: A Unified Framework for Object Classification and Counting*](https://dl.acm.org/doi/abs/10.1145/3191442.3191459) by Song and Qui instead.\n",
        "\n",
        "Machine learning is a rapidly evolving field. Thus, part of the requirement of being a successful machine learning data scientist is to keep up with the state of the art machine learning techniques in the research literature. Part of the goal of this project is for us to practice  doing independent research. In some parts of this project, we read material on a topic that were are not totally familiar and apply the techniques that we learned from the reading."
      ],
      "metadata": {
        "id": "lRiTpn4xm7gV"
      }
    },
    {
      "cell_type": "code",
      "source": [
        "from google.colab import drive\n",
        "drive.mount('/content/drive')"
      ],
      "metadata": {
        "colab": {
          "base_uri": "https://localhost:8080/"
        },
        "id": "Sa1w9hUGnekC",
        "outputId": "4d5196a8-e184-4408-af55-3f494bb2e2d7"
      },
      "execution_count": 1,
      "outputs": [
        {
          "output_type": "stream",
          "name": "stdout",
          "text": [
            "Mounted at /content/drive\n"
          ]
        }
      ]
    },
    {
      "cell_type": "code",
      "source": [
        "# Import libraries\n",
        "import pandas as pd\n",
        "import cv2\n",
        "from PIL import Image\n",
        "import matplotlib.pyplot as plt\n",
        "%matplotlib inline\n",
        "import os, sys\n",
        "import re\n",
        "from torch.utils.data import Dataset, DataLoader\n",
        "from torchvision import transforms\n",
        "import glob\n",
        "import numpy as np\n",
        "import torch\n",
        "import torch.nn as nn\n",
        "import torch.nn.functional as F\n",
        "import torch.optim as optim\n",
        "from torch.utils.tensorboard import SummaryWriter\n",
        "from torchvision import datasets, utils\n",
        "import datetime\n",
        "from tqdm import tqdm\n",
        "from bs4 import BeautifulSoup\n",
        "import json\n",
        "import pickle"
      ],
      "metadata": {
        "id": "32GSoGronhqe"
      },
      "execution_count": 2,
      "outputs": []
    },
    {
      "cell_type": "markdown",
      "source": [
        "The unique names of the animals of interest are stored in the list reduced_classes below. For each image, our goal is to identify the animals shown on the image and count how many there are."
      ],
      "metadata": {
        "id": "jfmn9yPVnkNA"
      }
    },
    {
      "cell_type": "code",
      "source": [
        "# Animal species classes\n",
        "reduced_classes = ['giraffe_reticulated','zebra_grevys','turtle_sea',\n",
        "                  'zebra_plains','giraffe_masai', 'whale_fluke']\n",
        "\n",
        "# Path name for annotations\n",
        "annotations_path = '/content/drive/MyDrive/Old school work/SML 301/wild/Annotations'\n",
        "class_annotations_path = '/content/drive/MyDrive/Old school work/SML 301/wild/class_annotations'\n",
        "count_annotations_path = '/content/drive/MyDrive/Old school work/SML 301/wild/count_annotations'\n",
        "jpeg_path = '/content/drive/MyDrive/Old school work/SML 301/wild/JPEGImages'"
      ],
      "metadata": {
        "id": "DgYKBRjxnkoW"
      },
      "execution_count": 3,
      "outputs": []
    },
    {
      "cell_type": "markdown",
      "source": [
        "We now redo steps from Precept 10 to remove duplicates and generate folders of classification annotations and count annotations."
      ],
      "metadata": {
        "id": "jldZSzy-n3EB"
      }
    },
    {
      "cell_type": "code",
      "source": [
        "# Get all file names\n",
        "all_files = os.listdir(annotations_path)"
      ],
      "metadata": {
        "id": "NpNwzKKdn1gR"
      },
      "execution_count": 4,
      "outputs": []
    },
    {
      "cell_type": "code",
      "source": [
        "# Check that all files were correctly uploaded to Google Drive with no duplicates\n",
        "len(all_files)"
      ],
      "metadata": {
        "id": "ovzABbkGyL3z",
        "colab": {
          "base_uri": "https://localhost:8080/"
        },
        "outputId": "f79e1da0-1d7a-4ba7-f6cb-5d318965f743"
      },
      "execution_count": 5,
      "outputs": [
        {
          "output_type": "execute_result",
          "data": {
            "text/plain": [
              "5794"
            ]
          },
          "metadata": {},
          "execution_count": 5
        }
      ]
    },
    {
      "cell_type": "markdown",
      "source": [
        "We found that some files were duplicated with an extra parantheses and version number appended to the file name when uploaded to Google Drive."
      ],
      "metadata": {
        "id": "2E6pwHJJyO6C"
      }
    },
    {
      "cell_type": "code",
      "source": [
        "# Remove duplicates\n",
        "file_names = []\n",
        "index = 0\n",
        "for i in range(0, len(all_files)):\n",
        "  if (all_files[i].find(\"(\") == -1):\n",
        "    file_names.append(all_files[i])\n",
        "\n",
        "# check how many files now\n",
        "len(file_names)"
      ],
      "metadata": {
        "colab": {
          "base_uri": "https://localhost:8080/"
        },
        "id": "2UHgWDl0xg5k",
        "outputId": "fdbc6439-a1a9-4d99-be7d-04a237fb406a"
      },
      "execution_count": 6,
      "outputs": [
        {
          "output_type": "execute_result",
          "data": {
            "text/plain": [
              "5784"
            ]
          },
          "metadata": {},
          "execution_count": 6
        }
      ]
    },
    {
      "cell_type": "markdown",
      "source": [
        "First generate the classification annotations (commented out because the files only need to be created once)."
      ],
      "metadata": {
        "id": "6Epk960QrMt1"
      }
    },
    {
      "cell_type": "code",
      "source": [
        "# go through each xml file\n",
        "# for i in range(0, len(file_names)):\n",
        "\n",
        "  # read the xml file\n",
        "  # with open(annotations_path + \"/\" + file_names[i], 'r') as f:\n",
        "    # file = f.read()\n",
        "  # soup = BeautifulSoup(file, 'xml')\n",
        "\n",
        "  # create classify_arr\n",
        "  # classify_arr = np.zeros(len(reduced_classes))\n",
        "\n",
        "  # get all animals in the xml file\n",
        "  # animals = soup.find_all('name')\n",
        "\n",
        "  # go through each animal\n",
        "  # for j in range(0, len(animals)):\n",
        "\n",
        "    # mark it off as 1 in the classify_arr\n",
        "    # if animals[j].text in reduced_classes:\n",
        "      # index = reduced_classes.index(animals[j].text)\n",
        "      # classify_arr[index] = 1\n",
        "\n",
        "  # save the filled in classify_arr to class_annotations\n",
        "  # np.save(class_annotations_path + \"/\" + file_names[i][:-3] + \"npy\", classify_arr)\n"
      ],
      "metadata": {
        "id": "CPL_tsxmoo3J"
      },
      "execution_count": 13,
      "outputs": []
    },
    {
      "cell_type": "markdown",
      "source": [
        "Next generate the count annotations (commented out because the files only need to be created once)."
      ],
      "metadata": {
        "id": "D01ChKNuraEw"
      }
    },
    {
      "cell_type": "code",
      "source": [
        "# go through each xml file\n",
        "# for i in range(0, len(file_names)):\n",
        "\n",
        "  # read the xml file\n",
        "  # with open(annotations_path + \"/\" + file_names[i], 'r') as f:\n",
        "    # file = f.read()\n",
        "  # soup = BeautifulSoup(file, 'xml')\n",
        "\n",
        "  # create count_arr\n",
        "  # count_arr = np.zeros(len(reduced_classes))\n",
        "\n",
        "  # get all animals in the xml file\n",
        "  # animals = soup.find_all('name')\n",
        "\n",
        "  # go through each animal\n",
        "  # for j in range(0, len(animals)):\n",
        "\n",
        "    # add 1 in the count_arr\n",
        "    # if animals[j].text in reduced_classes:\n",
        "      # index = reduced_classes.index(animals[j].text)\n",
        "      # count_arr[index] += 1\n",
        "\n",
        "  # save the filled in count_arr to class_annotations\n",
        "  # np.save(count_annotations_path + \"/\" + file_names[i][:-3] + \"npy\", count_arr)\n"
      ],
      "metadata": {
        "id": "veuurVMrrcau"
      },
      "execution_count": 15,
      "outputs": []
    },
    {
      "cell_type": "markdown",
      "source": [
        "## **Question 1. Data quality check and EDA**"
      ],
      "metadata": {
        "id": "NawlXK9jtcHV"
      }
    },
    {
      "cell_type": "markdown",
      "source": [
        "### Part a\n",
        "\n",
        "We verifed we had 5,784 files in each of the *class_annotations* and *count_annotations* folders. This number should match the how many files were in the original *Annotations* folder."
      ],
      "metadata": {
        "id": "ewNYR-AYuE24"
      }
    },
    {
      "cell_type": "code",
      "source": [
        "# Count files in class_annotations\n",
        "class_files = os.listdir(class_annotations_path)\n",
        "len(class_files)"
      ],
      "metadata": {
        "id": "arfwRGXnt_Cw",
        "colab": {
          "base_uri": "https://localhost:8080/"
        },
        "outputId": "61879f12-dfb1-4c5b-ed66-bd797db25ec8"
      },
      "execution_count": 7,
      "outputs": [
        {
          "output_type": "execute_result",
          "data": {
            "text/plain": [
              "5784"
            ]
          },
          "metadata": {},
          "execution_count": 7
        }
      ]
    },
    {
      "cell_type": "code",
      "source": [
        "# Count files in count_annotations\n",
        "count_files = os.listdir(count_annotations_path)\n",
        "len(count_files)"
      ],
      "metadata": {
        "id": "iYPdQCRPuIvT",
        "colab": {
          "base_uri": "https://localhost:8080/"
        },
        "outputId": "d6587f6d-8ac7-4858-bdb9-6b2218e9c3ba"
      },
      "execution_count": 8,
      "outputs": [
        {
          "output_type": "execute_result",
          "data": {
            "text/plain": [
              "5784"
            ]
          },
          "metadata": {},
          "execution_count": 8
        }
      ]
    },
    {
      "cell_type": "markdown",
      "source": [
        "### Part b\n",
        "\n",
        "Next, we examed a subset of the data."
      ],
      "metadata": {
        "id": "Uy2x4KsquIbR"
      }
    },
    {
      "cell_type": "code",
      "source": [
        "# Names of the files we will use for inspection\n",
        "file_names_subset = ['2018_002805.npy', '2018_000974.npy', '2018_000960.npy', '2018_002811.npy', '2018_004290.npy',\n",
        "                    '2018_002839.npy', '2018_003299.npy', '2018_002187.npy', '2018_000948.npy', '2018_000790.npy',\n",
        "                    '2018_001483.npy', '2018_000789.npy', '2018_000951.npy', '2018_001497.npy', '2018_003280.npy']"
      ],
      "metadata": {
        "id": "ajmkMbIouakc"
      },
      "execution_count": 9,
      "outputs": []
    },
    {
      "cell_type": "code",
      "source": [
        "# Print class annotations for files in the subset\n",
        "for file in file_names_subset:\n",
        "    print(np.load(class_annotations_path + '/' + file))"
      ],
      "metadata": {
        "id": "tsBijaFRuePC",
        "colab": {
          "base_uri": "https://localhost:8080/"
        },
        "outputId": "0ae92436-b4fd-43a9-968a-92047c3a342f"
      },
      "execution_count": 10,
      "outputs": [
        {
          "output_type": "stream",
          "name": "stdout",
          "text": [
            "[1. 0. 0. 0. 0. 0.]\n",
            "[0. 0. 0. 1. 1. 0.]\n",
            "[0. 0. 0. 0. 1. 0.]\n",
            "[1. 0. 0. 0. 0. 0.]\n",
            "[0. 0. 0. 0. 0. 1.]\n",
            "[1. 0. 0. 0. 0. 0.]\n",
            "[0. 0. 0. 0. 1. 0.]\n",
            "[0. 1. 0. 0. 0. 0.]\n",
            "[0. 0. 0. 0. 1. 0.]\n",
            "[0. 0. 0. 0. 1. 0.]\n",
            "[0. 0. 0. 1. 0. 0.]\n",
            "[0. 0. 0. 0. 1. 0.]\n",
            "[0. 0. 0. 0. 1. 0.]\n",
            "[0. 0. 0. 1. 0. 0.]\n",
            "[0. 0. 0. 0. 1. 0.]\n"
          ]
        }
      ]
    },
    {
      "cell_type": "markdown",
      "source": [
        "*Our outputs for `classify_arr` match the following which were given.*\n",
        "\n",
        "```python\n",
        "[1. 0. 0. 0. 0. 0.]\n",
        "[0. 0. 0. 1. 1. 0.]\n",
        "[0. 0. 0. 0. 1. 0.]\n",
        "[1. 0. 0. 0. 0. 0.]\n",
        "[0. 0. 0. 0. 0. 1.]\n",
        "[1. 0. 0. 0. 0. 0.]\n",
        "[0. 0. 0. 0. 1. 0.]\n",
        "[0. 1. 0. 0. 0. 0.]\n",
        "[0. 0. 0. 0. 1. 0.]\n",
        "[0. 0. 0. 0. 1. 0.]\n",
        "[0. 0. 0. 1. 0. 0.]\n",
        "[0. 0. 0. 0. 1. 0.]\n",
        "[0. 0. 0. 0. 1. 0.]\n",
        "[0. 0. 0. 1. 0. 0.]\n",
        "[0. 0. 0. 0. 1. 0.]\n",
        "```"
      ],
      "metadata": {
        "id": "Dh5nsfdouv5Q"
      }
    },
    {
      "cell_type": "code",
      "source": [
        "# Print count annotations for files in the subset\n",
        "for file in file_names_subset:\n",
        "    print(np.load(count_annotations_path + '/' + file))"
      ],
      "metadata": {
        "id": "eVMUj7aPuvpp",
        "colab": {
          "base_uri": "https://localhost:8080/"
        },
        "outputId": "a3411159-cd2b-4e45-cfd3-674b9017f8d2"
      },
      "execution_count": 11,
      "outputs": [
        {
          "output_type": "stream",
          "name": "stdout",
          "text": [
            "[4. 0. 0. 0. 0. 0.]\n",
            "[0. 0. 0. 3. 1. 0.]\n",
            "[0. 0. 0. 0. 1. 0.]\n",
            "[1. 0. 0. 0. 0. 0.]\n",
            "[0. 0. 0. 0. 0. 1.]\n",
            "[1. 0. 0. 0. 0. 0.]\n",
            "[0. 0. 0. 0. 2. 0.]\n",
            "[0. 1. 0. 0. 0. 0.]\n",
            "[0. 0. 0. 0. 2. 0.]\n",
            "[0. 0. 0. 0. 1. 0.]\n",
            "[0. 0. 0. 1. 0. 0.]\n",
            "[0. 0. 0. 0. 1. 0.]\n",
            "[0. 0. 0. 0. 1. 0.]\n",
            "[0. 0. 0. 2. 0. 0.]\n",
            "[0. 0. 0. 0. 1. 0.]\n"
          ]
        }
      ]
    },
    {
      "cell_type": "markdown",
      "source": [
        "*Our outputs for `count_arr` match the following which were given.*\n",
        "\n",
        "```python\n",
        "[4. 0. 0. 0. 0. 0.]\n",
        "[0. 0. 0. 3. 1. 0.]\n",
        "[0. 0. 0. 0. 1. 0.]\n",
        "[1. 0. 0. 0. 0. 0.]\n",
        "[0. 0. 0. 0. 0. 1.]\n",
        "[1. 0. 0. 0. 0. 0.]\n",
        "[0. 0. 0. 0. 2. 0.]\n",
        "[0. 1. 0. 0. 0. 0.]\n",
        "[0. 0. 0. 0. 2. 0.]\n",
        "[0. 0. 0. 0. 1. 0.]\n",
        "[0. 0. 0. 1. 0. 0.]\n",
        "[0. 0. 0. 0. 1. 0.]\n",
        "[0. 0. 0. 0. 1. 0.]\n",
        "[0. 0. 0. 2. 0. 0.]\n",
        "[0. 0. 0. 0. 1. 0.]\n",
        "```"
      ],
      "metadata": {
        "id": "ljzWNp_nu0rS"
      }
    },
    {
      "cell_type": "markdown",
      "source": [
        "### Part c\n",
        "\n",
        "We sought to examine our data more closely, particularly with regards to the frequency of animal occurrences in the images.\n",
        "\n",
        "To achieve this, we conducted a detailed analysis and generated a range of informative histograms."
      ],
      "metadata": {
        "id": "EznN8SX0u738"
      }
    },
    {
      "cell_type": "markdown",
      "source": [
        "#### Answers\n",
        "\n",
        "**(i.) The minimum number of animals in an image is 1 and the maximum is 22.**"
      ],
      "metadata": {
        "id": "ri0Lka5jvIsf"
      }
    },
    {
      "cell_type": "code",
      "source": [
        "# Minimum and maximum number of animals in an image\n",
        "animal_counts = []\n",
        "\n",
        "for count_file in count_files:\n",
        "    count_arr = np.load(os.path.join(count_annotations_path, count_file))\n",
        "    total_animals = int(np.sum(count_arr))\n",
        "    animal_counts.append(total_animals)\n",
        "\n",
        "min_animals = min(animal_counts)\n",
        "max_animals = max(animal_counts)\n",
        "\n",
        "print(f\"Minimum number of animals in an image: {min_animals}\")\n",
        "print(f\"Maximum number of animals in an image: {max_animals}\")"
      ],
      "metadata": {
        "id": "6gCh08OMvDrq",
        "colab": {
          "base_uri": "https://localhost:8080/"
        },
        "outputId": "4017db14-b08b-441e-a5a3-54b934f78f38"
      },
      "execution_count": 12,
      "outputs": [
        {
          "output_type": "stream",
          "name": "stdout",
          "text": [
            "Minimum number of animals in an image: 1\n",
            "Maximum number of animals in an image: 22\n"
          ]
        }
      ]
    },
    {
      "cell_type": "markdown",
      "source": [
        "**(ii) Histogram for the number of animals in an image**"
      ],
      "metadata": {
        "id": "gZemDX8svJ-z"
      }
    },
    {
      "cell_type": "code",
      "source": [
        "# Histogram for the number of animals in an image\n",
        "plt.hist(animal_counts, bins=range(min_animals, max_animals + 1), align='left', rwidth=0.8)\n",
        "plt.xlabel('Number of Animals')\n",
        "plt.ylabel('Frequency')\n",
        "plt.title('Histogram of Animal Counts')\n",
        "plt.xticks(range(min_animals, max_animals + 1))\n",
        "plt.show()"
      ],
      "metadata": {
        "id": "2nSV3mfgvOdf",
        "colab": {
          "base_uri": "https://localhost:8080/",
          "height": 472
        },
        "outputId": "48dd7db2-3ae2-4039-b5cc-34baeda29faf"
      },
      "execution_count": 13,
      "outputs": [
        {
          "output_type": "display_data",
          "data": {
            "text/plain": [
              "<Figure size 640x480 with 1 Axes>"
            ],
            "image/png": "[encoded data removed]"
          },
          "metadata": {}
        }
      ]
    },
    {
      "cell_type": "markdown",
      "source": [
        "**(iii.)\n",
        "The distribution has a long right tail. To determine this, we can visually examined the histogram generated above. Additionally, the mean and median are often used as measures of central tendency to describe the distribution of a dataset, we calculated the mean (1.71) and median (1.0). This further confirmed that our data was not symmetric and was right-skewed.**"
      ],
      "metadata": {
        "id": "VuymN77yvUIB"
      }
    },
    {
      "cell_type": "code",
      "source": [
        "# Mean and median of animal counts\n",
        "mean_animal_count = np.mean(animal_counts)\n",
        "median_animal_count = np.median(animal_counts)\n",
        "\n",
        "print(f\"Mean: {mean_animal_count}\")\n",
        "print(f\"Median: {median_animal_count}\")"
      ],
      "metadata": {
        "id": "JlfognoivUng",
        "colab": {
          "base_uri": "https://localhost:8080/"
        },
        "outputId": "b485e53f-37b8-4965-b24e-89ad109016ec"
      },
      "execution_count": 14,
      "outputs": [
        {
          "output_type": "stream",
          "name": "stdout",
          "text": [
            "Mean: 1.7066044260027662\n",
            "Median: 1.0\n"
          ]
        }
      ]
    },
    {
      "cell_type": "markdown",
      "source": [
        "### Part d\n",
        "\n",
        "Next, we created a histogram for each of the six animal species that showed the number of animals that appeared in each image.\n",
        "\n",
        "Instead of creating six separate histograms, we created one histogram with stacked bins to allow for easier comparison across the different categories."
      ],
      "metadata": {
        "id": "WZVJxdH_vZFa"
      }
    },
    {
      "cell_type": "code",
      "source": [
        "# Get the counts of each species\n",
        "species_counts = {animal_class: [] for animal_class in reduced_classes}\n",
        "\n",
        "for count_file in count_files:\n",
        "    count_arr = np.load(os.path.join(count_annotations_path, count_file))\n",
        "    for idx, animal_class in enumerate(reduced_classes):\n",
        "        species_counts[animal_class].append(count_arr[idx])"
      ],
      "metadata": {
        "id": "CKhUTErBvbAF"
      },
      "execution_count": 15,
      "outputs": []
    },
    {
      "cell_type": "markdown",
      "source": [
        "**Histogram with stacked bins**"
      ],
      "metadata": {
        "id": "1KM1KKy1vhVj"
      }
    },
    {
      "cell_type": "code",
      "source": [
        "bins = np.arange(0, max_animals + 1) - 0.5\n",
        "plt.figure(figsize=(10, 6))\n",
        "\n",
        "# Prepare the data for stacked histogram\n",
        "hist_data = [species_counts[animal_class] for animal_class in reduced_classes]\n",
        "plt.hist(hist_data, bins=bins, alpha=0.8, label=reduced_classes, stacked=True)\n",
        "\n",
        "plt.xlabel('Number of Animals')\n",
        "plt.ylabel('Frequency')\n",
        "plt.title('Stacked Histogram of Animal Counts by Species')\n",
        "plt.legend()\n",
        "plt.xticks(range(min_animals, max_animals + 1))\n",
        "plt.show()"
      ],
      "metadata": {
        "id": "5EuQHSakvh4-",
        "colab": {
          "base_uri": "https://localhost:8080/",
          "height": 564
        },
        "outputId": "56215c1b-327b-427b-c4e9-0088cee9d693"
      },
      "execution_count": 16,
      "outputs": [
        {
          "output_type": "display_data",
          "data": {
            "text/plain": [
              "<Figure size 1000x600 with 1 Axes>"
            ],
            "image/png": "[encoded data removed]"
          },
          "metadata": {}
        }
      ]
    },
    {
      "cell_type": "code",
      "source": [
        "# Zoomed in plots\n",
        "fig, axs = plt.subplots(1, 3, figsize=(20, 5))\n",
        "\n",
        "# Plot 1\n",
        "axs[0].hist(hist_data, bins=bins, alpha=0.8, label=reduced_classes, stacked=True)\n",
        "axs[0].set_xlabel('Number of Animals')\n",
        "axs[0].set_ylabel('Frequency')\n",
        "axs[0].set_title('Zoomed Histogram of Counts (x-axis: 1 to 4)')\n",
        "axs[0].set_xlim(1, 5)  # Adjust the range for the x-axis\n",
        "axs[0].set_ylim(0, 4500)\n",
        "axs[0].legend()\n",
        "axs[0].set_xticks(range(1, 5))\n",
        "\n",
        "# Plot 2\n",
        "axs[1].hist(hist_data, bins=bins, alpha=0.8, label=reduced_classes, stacked=True)\n",
        "axs[1].set_xlabel('Number of Animals')\n",
        "axs[1].set_ylabel('Frequency')\n",
        "axs[1].set_title('Zoomed Histogram of Counts (x-axis: 4 to 9)')\n",
        "axs[1].set_xlim(4, 9)  # Adjust the range for the x-axis\n",
        "axs[1].set_ylim(0, 250)\n",
        "axs[1].legend()\n",
        "axs[1].set_xticks(range(4, 10))\n",
        "\n",
        "# Plot 3\n",
        "axs[2].hist(hist_data, bins=bins, alpha=0.8, label=reduced_classes, stacked=True)\n",
        "axs[2].set_xlabel('Number of Animals')\n",
        "axs[2].set_ylabel('Frequency')\n",
        "axs[2].set_title('Zoomed Histogram of Counts (x-axis: 10 to 15)')\n",
        "axs[2].set_xlim(10, 20)  # Adjust the range for the x-axis\n",
        "axs[2].set_ylim(0, 10)\n",
        "axs[2].legend()\n",
        "axs[2].set_xticks(range(10, 20))\n",
        "\n",
        "plt.show()"
      ],
      "metadata": {
        "id": "2UCv2_anvlse",
        "colab": {
          "base_uri": "https://localhost:8080/",
          "height": 488
        },
        "outputId": "7284bd02-ec81-4127-bf6d-38086b70a850"
      },
      "execution_count": 17,
      "outputs": [
        {
          "output_type": "display_data",
          "data": {
            "text/plain": [
              "<Figure size 2000x500 with 3 Axes>"
            ],
            "image/png": "[encoded data removed]"
          },
          "metadata": {}
        }
      ]
    },
    {
      "cell_type": "markdown",
      "source": [
        "To determine if any of the six species show up more frequently in the images, we also calculated the total count for each species and created a bar chart for better visualization."
      ],
      "metadata": {
        "id": "mVr8Z4vZvpd4"
      }
    },
    {
      "cell_type": "code",
      "source": [
        "total_species_counts = {animal_class: sum(species_counts[animal_class]) for animal_class in reduced_classes}\n",
        "\n",
        "plt.figure(figsize=(10, 6))\n",
        "plt.bar(total_species_counts.keys(), total_species_counts.values())\n",
        "plt.xlabel('Animal Species')\n",
        "plt.ylabel('Frequency')\n",
        "plt.title('Total Count of Animal Species')\n",
        "plt.show()"
      ],
      "metadata": {
        "id": "JoKJoaFCvrfS",
        "colab": {
          "base_uri": "https://localhost:8080/",
          "height": 564
        },
        "outputId": "558e350b-b977-4f74-8986-78a185c74653"
      },
      "execution_count": 18,
      "outputs": [
        {
          "output_type": "display_data",
          "data": {
            "text/plain": [
              "<Figure size 1000x600 with 1 Axes>"
            ],
            "image/png": "[encoded data removed]"
          },
          "metadata": {}
        }
      ]
    },
    {
      "cell_type": "markdown",
      "source": [
        "**Among the 6 animals that we were interested in, we found that plains zebras show up more frequently than other species in the images.**"
      ],
      "metadata": {
        "id": "-Dx2588evuvG"
      }
    },
    {
      "cell_type": "markdown",
      "source": [
        "## **Question 2. Build the custom datasets object**\n",
        "\n",
        "In Chapter 8.7, we used the torchvision.datasets function/object to load the MNIST dataset into Python. For this project, we created a custom dataset that was not built into PyTorch."
      ],
      "metadata": {
        "id": "7WjvX_pbvvoH"
      }
    },
    {
      "cell_type": "code",
      "source": [
        "# Install opencv for cv2:\n",
        "!pip install opencv-python"
      ],
      "metadata": {
        "id": "SAGUy2MRvxvS",
        "colab": {
          "base_uri": "https://localhost:8080/"
        },
        "outputId": "42992e48-efc0-4a28-97b5-59eaf410af6d"
      },
      "execution_count": 19,
      "outputs": [
        {
          "output_type": "stream",
          "name": "stdout",
          "text": [
            "Requirement already satisfied: opencv-python in /usr/local/lib/python3.10/dist-packages (4.8.0.76)\n",
            "Requirement already satisfied: numpy>=1.21.2 in /usr/local/lib/python3.10/dist-packages (from opencv-python) (1.23.5)\n"
          ]
        }
      ]
    },
    {
      "cell_type": "markdown",
      "source": [
        "We installed the OpenCV library and defined a custom Dataset-class object.\n",
        "\n",
        "The custom dataset read images from the JPEGImages folder, resized them to a specified size, normalized pixel values, linked the images with corresponding labels from .npy files created previously, and divided the images for training, validation, and testing using IDs provided in train.txt, val.txt, and test.txt in the Imagesets/Main folder.\n",
        "\n",
        "We used the read_csv() function from pandas instead of the glob() function mentioned in the tutorial."
      ],
      "metadata": {
        "id": "0iCaFllpv40Z"
      }
    },
    {
      "cell_type": "code",
      "source": [
        "# Class to create the dataset\n",
        "class ClassifyCountDataset(Dataset):\n",
        "    def __init__(self, dataset_type, img_size):\n",
        "        self.img_path = jpeg_path\n",
        "        self.classify_path = class_annotations_path\n",
        "        self.count_path = count_annotations_path\n",
        "\n",
        "        # Transform the image using the mean and standard deviation of the training data\n",
        "        train_mean, train_sd = [0.4914, 0.4822, 0.4465], [0.247, 0.243, 0.261]\n",
        "        self.transforms = transforms.Compose(\n",
        "            [\n",
        "                transforms.Resize((img_size, img_size)),\n",
        "                transforms.ToTensor(),\n",
        "                transforms.Normalize(train_mean, train_sd)\n",
        "            ]\n",
        "        )\n",
        "        self.files = pd.read_csv(os.path.join('/content/drive/MyDrive/Old school work/SML 301/wild/ImageSets/Main',\n",
        "                                             '{}.txt'.format(dataset_type)), header=None)[0].tolist()\n",
        "    def __getitem__(self, index):\n",
        "        file = self.files[index]\n",
        "        img = self.transforms(Image.fromarray(cv2.imread(os.path.join(self.img_path, file+'.jpg')).astype(np.uint8)))\n",
        "        classify_target = torch.from_numpy(np.load(os.path.join(self.classify_path, file+'.npy')))\n",
        "        count_target = torch.from_numpy(np.load(os.path.join(self.count_path, file+'.npy')))\n",
        "\n",
        "        return img, classify_target, count_target\n",
        "\n",
        "    def __len__(self):\n",
        "        return len(self.files)"
      ],
      "metadata": {
        "id": "X-0j1lZxv6wm"
      },
      "execution_count": 24,
      "outputs": []
    },
    {
      "cell_type": "markdown",
      "source": [
        "### **Questions about the `ClassifyCountDataset` class:**\n",
        "\n",
        "*1) How is `self.files` is calculated?*\n",
        "\n",
        "*2) Describe the values `self.files` stores when `dataset_type` is set to 'test', and provide a few examples of these values.*\n",
        "\n",
        "*3) What steps did we take to make `img`?*\n",
        "\n",
        "*4) What is `classify_target` and where it is from?*"
      ],
      "metadata": {
        "id": "ufYg8Exs-vV4"
      }
    },
    {
      "cell_type": "markdown",
      "source": [
        "**Answers:**\n",
        "\n",
        "1.) The self.files variable is calculated by reading a text file whose name corresponds to the dataset type one seeks to use. The possible values for dataset_type are 'test', 'train', 'trainval', and 'val'. For example, if dataset_type is 'train', the text file read would be 'train.txt'. This file, which contains a list of image file names, are read into a pandas DataFrame and then converted into a list.\n",
        "\n",
        "2.) When dataset_type is set to 'test', self.files stores a list of file names of images in the test dataset. These file names are extracted from the text file named 'test.txt' located in wild/ImageSets/Main. Each entry in the list self.files corresponds to a test image file without the '.jpg' extension. For example, values might look something like this: 'img001', 'img002', 'img003' → which would correspond to image files named 'img001.jpg', 'img002.jpg', 'img003.jpg', and so on.\n",
        "\n",
        "3.) img begins with the jpeg file that is read in using opencv2.imread(). This is then transformed into a rescaled numerical format to be used as input for Image.fromarray, which changes the format of the image to PIL. From there the image is transformed so that the images are resized and changed to tensors, and the pixels are normalized using the mean and standard deviation values of trean_mean and train_sd.\n",
        "\n",
        "4.) classify_target is a PyTorch tensor of 0s and 1s that contains the classification labels/annotations indicating the class or species of the animal(s) present in a specific image.  It is created by loading the NumPy array file corresponding to the image from the self.classify_path directory and then converting the NumPy array to a PyTorch tensor using torch.from_numpy()."
      ],
      "metadata": {
        "id": "9nHIgHCx-wEP"
      }
    },
    {
      "cell_type": "markdown",
      "source": [
        "## **Question 3. Model architecture**\n",
        "\n",
        "We defined a convolutional neural network (CNN) that predicts the animals shown on a image, as well as the counts for each animal. Because our CNN is supposed to produce two different kinds of outputs (animal class identifications and animal counts for each class) our CNN was structured accordingly.\n",
        "\n",
        "We read, \"*Learn to Classify and Count: A Unified Framework for Object Classification and Counting*\" by Song and Qui. This gave us a better idea of the structure of the network that we sought to build. Our CNN had an architecture similar to the network in the paper but was simpler. Following similar steps as the ones in the paper, we built a CNN that had 2 output branches. Just as the method described in the paper, we trained the upstream layers jointly. However, instead of using the famous VGG-16 network architecture for the upstream layers, we only borrowed the architecture of the first few layers of VGG-16. This was because VGG-16 has approximately 138 million hyperparameters, and it would have taken a long time to train the entire VGG-16.\n",
        "\n",
        "The code in the next cell provided partial code for building the network for this project. We filled in the parts labeled with \"...\" to complete the code. We assumed that the input images were of size 128 x 128.\n",
        "\n",
        "We used the torch.nn.BatchNorm2d() function to do batch normalization and kept the default values for its input. Batch normalization is a popular technique used for improving deep neural network performance.\n",
        "Just a reminder: The `nn.Sequential()` function was discussed in Chapter 8.5 of the lecture notes.\n",
        "\n",
        "\n",
        "--\n",
        "\n",
        "\n",
        "We have described the architecture of the network below:\n",
        "\n",
        "For **block 1**:\n",
        "\n",
        "* first layer:\n",
        "    + a convolutional layer with 64 channels with (5 x 5) filters (kernels) with no padding; batch normalization; activation function: relu.\n",
        "\n",
        "* second layer:\n",
        "    + a convolutional layer with 64 channels with (5 x 5) filters; batch normalization; activation function: relu.\n",
        "    + a maximum pooling layer with (2 x 2 filter), each time move the filter 2 steps when moving horizontally and vertically, no padding\n",
        "\n",
        "\n",
        "For **block 2**:\n",
        "\n",
        "* first layer:\n",
        "    + a convolutional layer with 128 channels with (5 x 5) filters with no padding; batch normalization; activation function: relu.\n",
        "\n",
        "* second layer:\n",
        "    + a convolutional layer with 128 channels with (5 x 5) filters with no padding; batch normalization; activation function: relu.\n",
        "    + a maximum pooling layer with (2 x 2 filter), each time move the filter 2 steps when moving horizontally and vertically, no padding\n",
        "\n",
        "\n",
        "For each of the **branches**\n",
        "\n",
        "The following two layers are coded with the *self.branches.append()* function\n",
        "\n",
        "* first layer:\n",
        "    + a convolutional layer with 128 channels with (3 x 3) filters with one row/column of zeros added to all four sides of the input; batch normalization; activation function: relu.\n",
        "\n",
        "* second layer:\n",
        "    + a convolutional layer with 128 channels with (3 x 3) filters with one row/column of zeros added to all four sides of the input; batch normalization; activation function: relu.\n",
        "    + a maximum pooling layer with (2 x 2 filter), each time move the filter 2 steps when moving horizontally and vertically, no padding\n",
        "\n",
        "Third layer: flatten\n",
        "\n",
        "The following layers are coded with the *self.outputs.append()* function\n",
        "\n",
        "\n",
        "* fourth layer:\n",
        "    + dense layer with 256 neurons; activation function: relu\n",
        "    + dropout rate: 50%\n",
        "\n",
        "    \n",
        "* output layer."
      ],
      "metadata": {
        "id": "mxhggh7U_ryc"
      }
    },
    {
      "cell_type": "code",
      "source": [
        "# Neural network class\n",
        "class VGG16Counting(nn.Module):\n",
        "    def __init__(self, num_classes=10):\n",
        "        super(VGG16Counting, self).__init__()\n",
        "\n",
        "        # Block 1\n",
        "        self.block1 = nn.Sequential(nn.Conv2d(in_channels=3, out_channels=64, kernel_size=5),\n",
        "                                     nn.BatchNorm2d(64),\n",
        "                                     nn.ReLU(),\n",
        "                                     nn.Conv2d(64, 64, kernel_size=5),\n",
        "                                     nn.BatchNorm2d(64),\n",
        "                                     nn.ReLU(),\n",
        "                                     nn.MaxPool2d(kernel_size=2, stride=2))\n",
        "\n",
        "        # Block 2\n",
        "        self.block2 = nn.Sequential(nn.Conv2d(64, 128, kernel_size=5),\n",
        "                                     nn.BatchNorm2d(128),\n",
        "                                     nn.ReLU(),\n",
        "                                     nn.Conv2d(128, 128, kernel_size=5),\n",
        "                                     nn.BatchNorm2d(128),\n",
        "                                     nn.ReLU(),\n",
        "                                     nn.MaxPool2d(kernel_size=2, stride=2))\n",
        "\n",
        "        # Branches\n",
        "        self.branches, self.outputs = nn.ModuleList(), nn.ModuleList()\n",
        "        for _ in range(2):\n",
        "            self.branches.append(nn.Sequential(nn.Conv2d(128, 128, kernel_size=3, padding=1),\n",
        "                                               nn.BatchNorm2d(128),\n",
        "                                               nn.ReLU(),\n",
        "                                               nn.Conv2d(128, 128, kernel_size=3, padding=1),\n",
        "                                               nn.BatchNorm2d(128),\n",
        "                                               nn.ReLU(),\n",
        "                                               nn.MaxPool2d(kernel_size=2, stride=2),\n",
        "                                               nn.Flatten()))\n",
        "            # Outputs\n",
        "            self.outputs.append(nn.Sequential(nn.Linear(2 * 128 * 13 * 13, 256),\n",
        "                                              nn.ReLU(),\n",
        "                                              nn.Dropout(p=0.5),\n",
        "                                              nn.Linear(256, num_classes)\n",
        "                                              ))\n",
        "\n",
        "    def forward(self, x):\n",
        "        x = self.block2(self.block1(x))\n",
        "        x = torch.cat([torch.flatten(branch(x), start_dim=1) for branch in self.branches], 1)\n",
        "        outputs = [output(x) for output in self.outputs]\n",
        "\n",
        "        return outputs"
      ],
      "metadata": {
        "id": "Svj4EQDW-vxy"
      },
      "execution_count": 21,
      "outputs": []
    },
    {
      "cell_type": "markdown",
      "source": [
        "## **Question 4. Model training**\n",
        "\n",
        "### Part a\n",
        "\n",
        "In this part of the question, we defined the train() function for training the model."
      ],
      "metadata": {
        "id": "CxHXpp-TARYW"
      }
    },
    {
      "cell_type": "code",
      "source": [
        "# Training function\n",
        "from sklearn.metrics import multilabel_confusion_matrix, mean_squared_error\n",
        "\n",
        "def train(model, optimizer, train_dataloader, val_dataloader, num_epochs=100):\n",
        "    device = torch.device('cuda' if torch.cuda.is_available() else 'cpu')\n",
        "    # Define MSE and BCE loss functions\n",
        "    mse_criterion = nn.MSELoss()\n",
        "    bce_criterion = nn.BCEWithLogitsLoss()\n",
        "\n",
        "    # Initialize lists to store train and validation losses\n",
        "    train_losses, val_losses = [], [] #  Added for monitoring overfitting\n",
        "\n",
        "    # Loop over epochs\n",
        "    for epoch in range(1, num_epochs + 1):\n",
        "        # Set model to training mode\n",
        "        model.train()\n",
        "        # Initialize train loss\n",
        "        train_loss = 0\n",
        "\n",
        "        # Loop over batches in train dataloader\n",
        "        for batch_i, (imgs, targets_classify, targets_counts) in enumerate(train_dataloader):\n",
        "            imgs, targets_classify, targets_counts = imgs.to(device), targets_classify.to(device).float(), targets_counts.to(device).float()\n",
        "            outputs = model(imgs)\n",
        "            bce_loss = bce_criterion(outputs[0], targets_classify)\n",
        "            mse_loss = mse_criterion(outputs[1], targets_counts)\n",
        "            loss = bce_loss + mse_loss\n",
        "            optimizer.zero_grad()\n",
        "            loss.backward()\n",
        "            optimizer.step()\n",
        "\n",
        "            # Add loss to train_loss\n",
        "            train_loss += loss.item() # Added for monitoring overfitting\n",
        "\n",
        "        # Calculate average train loss\n",
        "        train_losses.append(train_loss / len(train_dataloader)) # Added for monitoring overfitting\n",
        "\n",
        "        # Set model to evaluation mode for validation\n",
        "        model.eval()\n",
        "        # Initialize tensors to store targets and predictions\n",
        "        total_targets_classify = torch.Tensor().to(device)\n",
        "        total_targets_count = torch.Tensor().to(device)\n",
        "        total_preds_classify = torch.Tensor().to(device)\n",
        "        total_preds_count = torch.Tensor().to(device)\n",
        "\n",
        "        # Define sigmoid activation function\n",
        "        sigmoid_activation = nn.Sigmoid()\n",
        "\n",
        "        # Initialize validation loss\n",
        "        val_loss = 0 # Added for monitoring overfitting\n",
        "        with torch.no_grad():\n",
        "            for batch_i, (imgs, targets_classify, targets_counts) in enumerate(val_dataloader):\n",
        "                imgs, targets_classify, targets_counts = imgs.to(device), targets_classify.to(device).int(), targets_counts.to(device).int()\n",
        "                outputs = model(imgs)\n",
        "\n",
        "                # Calculate BCE and MSE loss\n",
        "                bce_loss = bce_criterion(outputs[0], targets_classify.float())\n",
        "                mse_loss = mse_criterion(outputs[1], targets_counts.float())\n",
        "                loss = bce_loss + mse_loss # Modified for monitoring overfitting\n",
        "                val_loss += loss.item() # Added for monitoring overfitting\n",
        "\n",
        "                # Concatenate predictions and targets\n",
        "                total_preds_classify = torch.cat((total_preds_classify, torch.round(sigmoid_activation(outputs[0])).int()), dim=0)\n",
        "                total_targets_classify = torch.cat((total_targets_classify, targets_classify), dim=0)\n",
        "\n",
        "                total_targets_count = torch.cat((total_targets_count, targets_counts.float()), dim=0)\n",
        "                total_preds_count = torch.cat((total_preds_count, torch.round(nn.ReLU()(outputs[1])).int()), dim=0)\n",
        "\n",
        "        # Calculate average validation loss\n",
        "        val_losses.append(val_loss / len(val_dataloader)) # Added for monitoring overfitting\n",
        "\n",
        "        # Calculate confusion matrix and classwise precision for classification task\n",
        "        confusion_matrix = multilabel_confusion_matrix(total_targets_classify.cpu().detach().numpy(),\n",
        "                                                       total_preds_classify.cpu().detach().numpy())\n",
        "\n",
        "        # Calculate precisions\n",
        "        classwise_precisions = []\n",
        "        for i in range(6):\n",
        "            tp = confusion_matrix[i][1][1]\n",
        "            fp = confusion_matrix[i][0][1]\n",
        "            precision = tp / (tp + fp)\n",
        "            classwise_precisions.append(precision)\n",
        "\n",
        "        print(\"Average precision for each class>>\", classwise_precisions)\n",
        "\n",
        "        # Calculate relative root mean squared error\n",
        "        relrmse_classwise = []\n",
        "        total_targets_count_arr = total_targets_count.cpu().detach().numpy()\n",
        "        total_preds_count_arr = total_preds_count.cpu().detach().numpy()\n",
        "        for i in range(6):\n",
        "            mse = mean_squared_error(total_targets_count_arr[:, i], total_preds_count_arr[:, i])\n",
        "            mean = total_targets_count_arr[:, i].mean()\n",
        "            rel = ((total_targets_count_arr[:, i] - mean) ** 2).mean()\n",
        "            relrmse = (mse ** 0.5) / (rel ** 0.5)\n",
        "            relrmse_classwise.append(relrmse)\n",
        "\n",
        "\n",
        "        print(\"Mean relative Root mean squared error>>\", sum(relrmse_classwise) / len(relrmse_classwise))\n",
        "\n",
        "\n",
        "        # Added for monitoring overfitting\n",
        "        print(f'Epoch {epoch}: train loss {train_losses[-1]:.4f}, validation loss {val_losses[-1]:.4f}')\n",
        "\n",
        "    # Save the losses to a file\n",
        "    with open('losses.pkl', 'wb') as f:\n",
        "        pickle.dump({'train_losses': train_losses, 'val_losses': val_losses}, f)\n",
        "\n",
        "    return train_losses, val_losses"
      ],
      "metadata": {
        "id": "078ch9UsASCQ"
      },
      "execution_count": 36,
      "outputs": []
    },
    {
      "cell_type": "markdown",
      "source": [
        "### Part b\n",
        "\n",
        "Note that the loss function is defined to be the sum of two loss functions: `MSELoss()` and `BCEWithLogitsLoss()`.  This is inspired by the loss function used in the paper by Song and Qui."
      ],
      "metadata": {
        "id": "H-tUGrPRHY0E"
      }
    },
    {
      "cell_type": "markdown",
      "source": [
        "**Justify why it is reasonable to use the two loss functions `MSELoss()` and `BCEWithLogitsLoss()`.**\n",
        "\n",
        "In our situation, it is reasonable to use a combination of `MSELoss()` and `BCEWithLogitsLoss()` as the loss function because the problem involves solving two tasks: classification and regression.\n",
        "\n",
        "For the classification task, we use BCEWithLogitsLoss() to predict the presence/absence of each animal class in an image. This loss function is appropriate for multi-label classification problems and handles sigmoid activation and binary cross-entropy calculations.\n",
        "\n",
        "For the regression task, we use MSELoss() to predict the counts of each animal class in an image. This loss function measures the average squared difference between the predicted and actual counts, which is commonly used for regression problems.\n",
        "\n",
        "Thus, by summing up the two loss functions, the model is enabled to optimize both classification and regression tasks at the same time.\n"
      ],
      "metadata": {
        "id": "lXi9KuNmVhLh"
      }
    },
    {
      "cell_type": "markdown",
      "source": [
        "### Part c\n",
        "\n",
        "Note that the use of `BCEWithLogitsLoss()` (instead of `nn.CrossEntropyLoss()`) means that we use the sigmoid function (instead of a softmax function) as the activation function for the last layer for the classification branch.  \n",
        "\n",
        "However, there are 6 neurons in the output layer for the classification branch, one for each class.  For the examples that we have seen in this course, usually when there are more than 2 classes, we use a softmax function on the last layer, and only use the sigmoid function for binary classification.  Explain why the use of the sigmoid function is appropriate here."
      ],
      "metadata": {
        "id": "N8o5rSjxVkOB"
      }
    },
    {
      "cell_type": "markdown",
      "source": [
        "#### **Answer:**\n",
        "\n",
        "The use of the sigmoid function is appropriate because the problem we are dealing with is a *multi-label* rather than a *multi-class* classification. In a multi-class classification problem, there is an implication there is a mutually exclusive relationship between the classes—which is not true in our case.\n",
        "\n",
        "To answer the hint: if we applied the softmax function to the values 𝑧1, 𝑧2, ..., 𝑧6 → values after the softmax transformation would sum up to 1. Then, the implied relationship between the classes would be competition or mutual exclusivity. This is not what we want in a multi-label classification problem.\n",
        "\n",
        "In our specific situation, we want to predict the probability of each of 6 classes/animal species independently. Thus, using the sigmoid function allows us to model the probability of each class being present or absent in the input, without forcing all the probabilities to sum up to 1.\n"
      ],
      "metadata": {
        "id": "Qk-GJ28dVlzV"
      }
    },
    {
      "cell_type": "markdown",
      "source": [
        "### Part d\n",
        "The dataset_type parameter is set to 'train' for the training dataset and 'val' for the validation dataset, and the img_size is set to 128, as specified in the problem description."
      ],
      "metadata": {
        "id": "LBAZSCzYVoL8"
      }
    },
    {
      "cell_type": "code",
      "source": [
        "# Create dataloader\n",
        "train_dataset = ClassifyCountDataset(dataset_type='train', img_size=128)\n",
        "train_dataloader = DataLoader(train_dataset, batch_size=32, shuffle=True)\n",
        "\n",
        "val_dataset = ClassifyCountDataset(dataset_type='val', img_size=128)\n",
        "val_dataloader = DataLoader(val_dataset, batch_size=32, shuffle=False)"
      ],
      "metadata": {
        "id": "_VwQAZMKVsyP"
      },
      "execution_count": 37,
      "outputs": []
    },
    {
      "cell_type": "markdown",
      "source": [
        "We initiate the model and define the optimizer below."
      ],
      "metadata": {
        "id": "fpJgHalOVqo9"
      }
    },
    {
      "cell_type": "code",
      "source": [
        "torch.manual_seed(2023)\n",
        "device = torch.device(\"cuda\" if torch.cuda.is_available() else \"cpu\")\n",
        "\n",
        "# Initialize model\n",
        "model = VGG16Counting(num_classes=6).to(device)\n",
        "\n",
        "# Create optimizer\n",
        "optimizer = optim.Adam(model.parameters(), lr=1e-4)\n",
        "num_epochs = 30"
      ],
      "metadata": {
        "id": "J5SBh46TVvvz"
      },
      "execution_count": 38,
      "outputs": []
    },
    {
      "cell_type": "markdown",
      "source": [
        "### Part e\n",
        "\n",
        "We trained the model and made sure that our champion model did not overfit by using the validation set to monitor the performance of the model during training. We trained thirty epochs."
      ],
      "metadata": {
        "id": "fIvnIMYGVzI-"
      }
    },
    {
      "cell_type": "code",
      "source": [
        "torch.manual_seed(2023)\n",
        "\n",
        "# Train the model\n",
        "train_losses, val_losses = train(model, optimizer,\n",
        "                                 train_dataloader, val_dataloader,\n",
        "                                 num_epochs=num_epochs)"
      ],
      "metadata": {
        "colab": {
          "base_uri": "https://localhost:8080/"
        },
        "id": "bqBgK8byV1un",
        "outputId": "0bbf0946-0153-4ccd-9445-28818c7aee40"
      },
      "execution_count": 39,
      "outputs": [
        {
          "output_type": "stream",
          "name": "stdout",
          "text": [
            "Average precision for each class>> [0.8166666666666667, 0.7922077922077922, 0.9938650306748467, 0.9473684210526315, 0.5602836879432624, 0.9217877094972067]\n",
            "Mean relative Root mean squared error>> 1.053720191843394\n",
            "Epoch 1: train loss 1.2502, validation loss 1.0602\n",
            "Average precision for each class>> [0.708994708994709, 0.7438423645320197, 0.9783783783783784, 0.9017857142857143, 0.711864406779661, 0.863849765258216]\n",
            "Mean relative Root mean squared error>> 1.0495423933790973\n",
            "Epoch 2: train loss 0.9578, validation loss 1.0062\n",
            "Average precision for each class>> [0.9186991869918699, 0.875, 0.9837837837837838, 0.9032258064516129, 0.5017543859649123, 0.893719806763285]\n",
            "Mean relative Root mean squared error>> 1.0435981751740593\n",
            "Epoch 3: train loss 0.9137, validation loss 0.9831\n",
            "Average precision for each class>> [0.8835616438356164, 0.803030303030303, 0.9943502824858758, 0.7229437229437229, 0.7428571428571429, 0.9033816425120773]\n",
            "Mean relative Root mean squared error>> 1.0001977499475816\n",
            "Epoch 4: train loss 0.8742, validation loss 0.8969\n",
            "Average precision for each class>> [0.8432835820895522, 0.8186528497409327, 0.9943181818181818, 0.863013698630137, 0.7372881355932204, 0.8904761904761904]\n",
            "Mean relative Root mean squared error>> 1.0287065318565862\n",
            "Epoch 5: train loss 0.8451, validation loss 0.9096\n",
            "Average precision for each class>> [0.7962085308056872, 0.7821782178217822, 0.994413407821229, 0.9333333333333333, 0.7017543859649122, 0.9834254143646409]\n",
            "Mean relative Root mean squared error>> 1.0337827191980782\n",
            "Epoch 6: train loss 0.8130, validation loss 0.8881\n",
            "Average precision for each class>> [0.956140350877193, 0.8670212765957447, 0.9842105263157894, 0.7148936170212766, 0.7142857142857143, 0.9402985074626866]\n",
            "Mean relative Root mean squared error>> 1.045932283064373\n",
            "Epoch 7: train loss 0.7763, validation loss 0.8798\n",
            "Average precision for each class>> [0.8484848484848485, 0.9230769230769231, 0.9946808510638298, 0.9571428571428572, 0.6067415730337079, 0.9833333333333333]\n",
            "Mean relative Root mean squared error>> 1.0322275732811814\n",
            "Epoch 8: train loss 0.7453, validation loss 0.8577\n",
            "Average precision for each class>> [0.8837209302325582, 0.8194444444444444, 0.9408866995073891, 0.9395973154362416, 0.6852791878172588, 0.96875]\n",
            "Mean relative Root mean squared error>> 1.004776771734108\n",
            "Epoch 9: train loss 0.7144, validation loss 0.7924\n",
            "Average precision for each class>> [0.8947368421052632, 0.8469387755102041, 0.994535519125683, 0.9732142857142857, 0.6324110671936759, 0.9642857142857143]\n",
            "Mean relative Root mean squared error>> 1.0171714298197128\n",
            "Epoch 10: train loss 0.6845, validation loss 0.8267\n",
            "Average precision for each class>> [0.6146179401993356, 0.9366197183098591, 0.9885714285714285, 0.910828025477707, 0.6825396825396826, 1.0]\n",
            "Mean relative Root mean squared error>> 1.0000591850198712\n",
            "Epoch 11: train loss 0.6619, validation loss 0.8540\n",
            "Average precision for each class>> [0.7692307692307693, 0.8293838862559242, 0.988950276243094, 0.9171270718232044, 0.8632478632478633, 0.994535519125683]\n",
            "Mean relative Root mean squared error>> 0.9842806505621277\n",
            "Epoch 12: train loss 0.6501, validation loss 0.7162\n",
            "Average precision for each class>> [0.8810810810810811, 0.839622641509434, 0.994413407821229, 0.9473684210526315, 0.7878787878787878, 0.9690721649484536]\n",
            "Mean relative Root mean squared error>> 0.9816802248421729\n",
            "Epoch 13: train loss 0.6280, validation loss 0.7274\n",
            "Average precision for each class>> [0.8056872037914692, 0.822429906542056, 0.9943502824858758, 0.951048951048951, 0.7806451612903226, 0.9679144385026738]\n",
            "Mean relative Root mean squared error>> 1.0023366587755798\n",
            "Epoch 14: train loss 0.5905, validation loss 0.7886\n",
            "Average precision for each class>> [0.7851239669421488, 0.9207317073170732, 0.9890710382513661, 0.9397590361445783, 0.7840909090909091, 0.9885057471264368]\n",
            "Mean relative Root mean squared error>> 1.007109764911197\n",
            "Epoch 15: train loss 0.5967, validation loss 0.7707\n",
            "Average precision for each class>> [0.9261363636363636, 0.9269662921348315, 0.9791666666666666, 0.9081632653061225, 0.735, 0.96875]\n",
            "Mean relative Root mean squared error>> 0.9734802429526391\n",
            "Epoch 16: train loss 0.5732, validation loss 0.7002\n",
            "Average precision for each class>> [0.8855721393034826, 0.9681528662420382, 0.9794871794871794, 0.8994708994708994, 0.75, 1.0]\n",
            "Mean relative Root mean squared error>> 0.9793844962129193\n",
            "Epoch 17: train loss 0.5542, validation loss 0.7011\n",
            "Average precision for each class>> [0.9612903225806452, 0.8969072164948454, 0.9947368421052631, 0.9404761904761905, 0.7407407407407407, 0.9408866995073891]\n",
            "Mean relative Root mean squared error>> 0.9668311671397304\n",
            "Epoch 18: train loss 0.5378, validation loss 0.6847\n",
            "Average precision for each class>> [0.8900523560209425, 0.7232472324723247, 0.9947643979057592, 0.9612903225806452, 0.8581081081081081, 0.9591836734693877]\n",
            "Mean relative Root mean squared error>> 0.981154471275762\n",
            "Epoch 19: train loss 0.5190, validation loss 0.7346\n",
            "Average precision for each class>> [0.8370044052863436, 0.8761904761904762, 0.9846153846153847, 0.9681528662420382, 0.9051094890510949, 0.9642857142857143]\n",
            "Mean relative Root mean squared error>> 0.9826530346883717\n",
            "Epoch 20: train loss 0.5267, validation loss 0.7055\n",
            "Average precision for each class>> [0.9019607843137255, 0.9119170984455959, 0.9893048128342246, 0.9392265193370166, 0.8539325842696629, 0.9597989949748744]\n",
            "Mean relative Root mean squared error>> 0.976860725472089\n",
            "Epoch 21: train loss 0.5058, validation loss 0.6871\n",
            "Average precision for each class>> [0.9807692307692307, 0.8063063063063063, 0.9895287958115183, 0.7628458498023716, 0.8863636363636364, 0.9738219895287958]\n",
            "Mean relative Root mean squared error>> 0.9761133089953206\n",
            "Epoch 22: train loss 0.5011, validation loss 0.7163\n",
            "Average precision for each class>> [0.9464285714285714, 0.9337016574585635, 0.979381443298969, 0.7407407407407407, 0.8224852071005917, 0.983957219251337]\n",
            "Mean relative Root mean squared error>> 0.9854530987634537\n",
            "Epoch 23: train loss 0.5372, validation loss 0.7162\n",
            "Average precision for each class>> [0.9421965317919075, 0.8475336322869955, 0.979381443298969, 0.945054945054945, 0.7979274611398963, 0.9893617021276596]\n",
            "Mean relative Root mean squared error>> 0.9826668324398175\n",
            "Epoch 24: train loss 0.4794, validation loss 0.7128\n",
            "Average precision for each class>> [0.9273743016759777, 0.8644859813084113, 0.9946524064171123, 0.9606741573033708, 0.824468085106383, 0.9641025641025641]\n",
            "Mean relative Root mean squared error>> 0.9820848614404191\n",
            "Epoch 25: train loss 0.4984, validation loss 0.7167\n",
            "Average precision for each class>> [0.8617511520737328, 0.8829268292682927, 0.9740932642487047, 0.968944099378882, 0.8554913294797688, 0.9894179894179894]\n",
            "Mean relative Root mean squared error>> 0.9857352317833263\n",
            "Epoch 26: train loss 0.4826, validation loss 0.7149\n",
            "Average precision for each class>> [0.9293478260869565, 0.8701923076923077, 0.9893617021276596, 0.9655172413793104, 0.8268156424581006, 0.9547738693467337]\n",
            "Mean relative Root mean squared error>> 0.9714488419886812\n",
            "Epoch 27: train loss 0.4557, validation loss 0.6983\n",
            "Average precision for each class>> [0.9004739336492891, 0.9555555555555556, 0.9896373056994818, 0.8117154811715481, 0.9424460431654677, 0.9894736842105263]\n",
            "Mean relative Root mean squared error>> 0.9679161678133298\n",
            "Epoch 28: train loss 0.4533, validation loss 0.6689\n",
            "Average precision for each class>> [0.6796116504854369, 0.9217877094972067, 0.9947643979057592, 0.9784172661870504, 0.860655737704918, 0.9947089947089947]\n",
            "Mean relative Root mean squared error>> 0.9945089723079295\n",
            "Epoch 29: train loss 0.4663, validation loss 0.8286\n",
            "Average precision for each class>> [0.9426751592356688, 0.9014778325123153, 0.9846938775510204, 0.8939393939393939, 0.7405660377358491, 0.9742268041237113]\n",
            "Mean relative Root mean squared error>> 0.9693637540031168\n",
            "Epoch 30: train loss 0.4447, validation loss 0.7056\n"
          ]
        }
      ]
    },
    {
      "cell_type": "markdown",
      "source": [
        "We provided graphs to show that we did not overfit our model."
      ],
      "metadata": {
        "id": "UFoy1WrQV4RX"
      }
    },
    {
      "cell_type": "code",
      "source": [
        "# Plot the training and validation losses\n",
        "with open('losses.pkl', 'rb') as f:\n",
        "    losses = pickle.load(f)\n",
        "\n",
        "train_losses = losses['train_losses']\n",
        "val_losses = losses['val_losses']\n",
        "\n",
        "plt.plot(train_losses, label='Train')\n",
        "plt.plot(val_losses, label='Validation')\n",
        "plt.xlabel('Epoch')\n",
        "plt.ylabel('Loss')\n",
        "plt.legend()\n",
        "plt.show()"
      ],
      "metadata": {
        "colab": {
          "base_uri": "https://localhost:8080/",
          "height": 449
        },
        "id": "2LI5Km9DV6A0",
        "outputId": "68f778a6-97c4-4583-e63f-8ce26f89e550"
      },
      "execution_count": 40,
      "outputs": [
        {
          "output_type": "display_data",
          "data": {
            "text/plain": [
              "<Figure size 640x480 with 1 Axes>"
            ],
            "image/png": "[encoded data removed]"
          },
          "metadata": {}
        }
      ]
    },
    {
      "cell_type": "markdown",
      "source": [
        "### Part f\n",
        "\n",
        "Finally, we used our champion model to evaluate on the test set and reported AUC for each animal species."
      ],
      "metadata": {
        "id": "_ezwP9F0V8F2"
      }
    },
    {
      "cell_type": "code",
      "source": [
        "# Load the test data\n",
        "test_dataset = ClassifyCountDataset(dataset_type = 'test', img_size = 128)\n",
        "test_dataloader = DataLoader(test_dataset, batch_size=64, shuffle=True)"
      ],
      "metadata": {
        "id": "vIAtMaJBV92p"
      },
      "execution_count": 41,
      "outputs": []
    },
    {
      "cell_type": "code",
      "source": [
        "# Run the model on the test data\n",
        "device = torch.device('cuda' if torch.cuda.is_available() else 'cpu')\n",
        "\n",
        "# Initialize loss functions for multi-class classification and regression tasks\n",
        "mse_criterion = nn.MSELoss()\n",
        "bce_criterion = nn.BCEWithLogitsLoss()\n",
        "\n",
        "# Set the model to evaluation mode\n",
        "model.eval()\n",
        "\n",
        "# Initialize empty tensors to hold the predicted and true labels\n",
        "total_targets_classify = torch.Tensor().to(device)\n",
        "total_targets_count = torch.Tensor().to(device)\n",
        "total_preds_classify = torch.Tensor().to(device)\n",
        "total_preds_count = torch.Tensor().to(device)\n",
        "\n",
        "# Define the sigmoid activation function\n",
        "sigmoid_activation = nn.Sigmoid()\n",
        "\n",
        "test_loss = 0\n",
        "with torch.no_grad():\n",
        "  # Loop through the testing data in batches\n",
        "  for batch_i, (imgs, targets_classify, targets_counts) in enumerate(test_dataloader):\n",
        "    imgs, targets_classify, targets_counts = imgs.to(device), targets_classify.to(device).int(), targets_counts.to(device).int()\n",
        "    outputs = model(imgs)\n",
        "\n",
        "    bce_loss = bce_criterion(outputs[0], targets_classify.float())\n",
        "    mse_loss = mse_criterion(outputs[1], targets_counts.float())\n",
        "    loss = bce_loss + mse_loss # Modified for monitoring overfitting\n",
        "    test_loss += loss.item() # Added for monitoring overfitting\n",
        "\n",
        "    total_preds_classify = torch.cat((total_preds_classify, torch.round(sigmoid_activation(outputs[0])).int()), dim=0)\n",
        "    total_targets_classify = torch.cat((total_targets_classify, targets_classify), dim=0)\n",
        "\n",
        "    total_targets_count = torch.cat((total_targets_count, targets_counts.float()), dim=0)\n",
        "    total_preds_count = torch.cat((total_preds_count, torch.round(nn.ReLU()(outputs[1])).int()), dim=0)\n",
        "\n",
        "# Compute the confusion matrix to evaluate the classification performance\n",
        "confusion_matrix = multilabel_confusion_matrix(total_targets_classify.cpu().detach().numpy(),\n",
        "                                                      total_preds_classify.cpu().detach().numpy())\n",
        "\n",
        "# Calculate the average precision for each class\n",
        "classwise_precisions = []\n",
        "for i in range(6):\n",
        "  tp = confusion_matrix[i][1][1]\n",
        "  fp = confusion_matrix[i][0][1]\n",
        "  precision = tp / (tp + fp)\n",
        "  classwise_precisions.append(precision)\n",
        "\n",
        "print(\"Average precision for each class>>\", classwise_precisions)\n",
        "\n",
        "# Calculate the mean relative root mean squared error for the regression task\n",
        "relrmse_classwise = []\n",
        "total_targets_count_arr = total_targets_count.cpu().detach().numpy()\n",
        "total_preds_count_arr = total_preds_count.cpu().detach().numpy()\n",
        "for i in range(6):\n",
        "  mse = mean_squared_error(total_targets_count_arr[:, i], total_preds_count_arr[:, i])\n",
        "  mean = total_targets_count_arr[:, i].mean()\n",
        "  rel = ((total_targets_count_arr[:, i] - mean) ** 2).mean()\n",
        "  relrmse = (mse ** 0.5) / (rel ** 0.5)\n",
        "  relrmse_classwise.append(relrmse)\n",
        "\n",
        "\n",
        "print(\"Mean relative Root mean squared error>>\", sum(relrmse_classwise) / len(relrmse_classwise))"
      ],
      "metadata": {
        "colab": {
          "base_uri": "https://localhost:8080/"
        },
        "id": "IesLnsKXV-PI",
        "outputId": "e439489b-de32-4b3b-cc13-488d709a2ed1"
      },
      "execution_count": 42,
      "outputs": [
        {
          "output_type": "stream",
          "name": "stdout",
          "text": [
            "Average precision for each class>> [0.9716312056737588, 0.8963730569948186, 0.9798994974874372, 0.8472906403940886, 0.759656652360515, 0.9848484848484849]\n",
            "Mean relative Root mean squared error>> 0.9841316540846824\n"
          ]
        }
      ]
    },
    {
      "cell_type": "code",
      "source": [
        "# convert classification predictions and targets to numpy arrays\n",
        "total_targets_classify_arr = total_targets_classify.cpu().detach().numpy()\n",
        "total_preds_classify_arr = total_preds_classify.cpu().detach().numpy()"
      ],
      "metadata": {
        "id": "rPQgyAPmWD0b"
      },
      "execution_count": 43,
      "outputs": []
    },
    {
      "cell_type": "code",
      "source": [
        "from sklearn.metrics import roc_auc_score\n",
        "\n",
        "# get AUC for each class/animal species\n",
        "for i in range(len(reduced_classes)):\n",
        "  print(reduced_classes[i], \": \", roc_auc_score(total_targets_classify_arr[:, i], total_preds_classify_arr[:, i]))"
      ],
      "metadata": {
        "colab": {
          "base_uri": "https://localhost:8080/"
        },
        "id": "caO51UmgWFii",
        "outputId": "5957b4a5-6a8f-40b0-a814-75b01cf0d373"
      },
      "execution_count": 44,
      "outputs": [
        {
          "output_type": "stream",
          "name": "stdout",
          "text": [
            "giraffe_reticulated :  0.8404188345473466\n",
            "zebra_grevys :  0.9449644967206895\n",
            "turtle_sea :  0.9829912935323383\n",
            "zebra_plains :  0.8874056575741369\n",
            "giraffe_masai :  0.898186127062255\n",
            "whale_fluke :  0.9859391259105099\n"
          ]
        }
      ]
    },
    {
      "cell_type": "markdown",
      "source": [
        "The AUC for each animal species was:\n",
        "- giraffe_reticulated : 0.8404188345473466\n",
        "- zebra_grevys : 0.9449644967206895\n",
        "- turtle_sea : 0.9829912935323383\n",
        "- zebra_plains : 0.8874056575741369\n",
        "- giraffe_masai : 0.898186127062255\n",
        "- whale_fluke : 0.9859391259105099"
      ],
      "metadata": {
        "id": "ZRYX96APWIaL"
      }
    },
    {
      "cell_type": "markdown",
      "source": [
        "### **Honor Code**\n",
        "I pledge my honor that I have not violated the honor code when completing this assignment.\n",
        "\n",
        "Digitally signed: *Melissa Chun* and *Annika Hsi*\n"
      ],
      "metadata": {
        "id": "JnDjIlOnWKhC"
      }
    }
  ]
}